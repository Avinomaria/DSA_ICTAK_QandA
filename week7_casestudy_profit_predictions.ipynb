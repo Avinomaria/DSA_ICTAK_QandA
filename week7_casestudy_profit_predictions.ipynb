{
 "cells": [
  {
   "cell_type": "code",
   "execution_count": 1,
   "id": "437fedab",
   "metadata": {},
   "outputs": [],
   "source": [
    "import pandas as pd\n",
    "import numpy as np\n",
    "import matplotlib.pyplot as plt\n",
    "%matplotlib inline\n",
    "import seaborn as sns\n",
    "import statsmodels.formula.api as sm\n",
    "from sklearn import metrics"
   ]
  },
  {
   "cell_type": "code",
   "execution_count": 2,
   "id": "959be4f8",
   "metadata": {},
   "outputs": [
    {
     "data": {
      "text/html": [
       "<div>\n",
       "<style scoped>\n",
       "    .dataframe tbody tr th:only-of-type {\n",
       "        vertical-align: middle;\n",
       "    }\n",
       "\n",
       "    .dataframe tbody tr th {\n",
       "        vertical-align: top;\n",
       "    }\n",
       "\n",
       "    .dataframe thead th {\n",
       "        text-align: right;\n",
       "    }\n",
       "</style>\n",
       "<table border=\"1\" class=\"dataframe\">\n",
       "  <thead>\n",
       "    <tr style=\"text-align: right;\">\n",
       "      <th></th>\n",
       "      <th>Add1(in Thousands)</th>\n",
       "      <th>Add2(in Thousands)</th>\n",
       "      <th>Add3(in Thousands)</th>\n",
       "      <th>Add4(in Thousands)</th>\n",
       "      <th>Add5(in Thousands)</th>\n",
       "      <th>Profit(in Thousands)</th>\n",
       "    </tr>\n",
       "    <tr>\n",
       "      <th>Date</th>\n",
       "      <th></th>\n",
       "      <th></th>\n",
       "      <th></th>\n",
       "      <th></th>\n",
       "      <th></th>\n",
       "      <th></th>\n",
       "    </tr>\n",
       "  </thead>\n",
       "  <tbody>\n",
       "    <tr>\n",
       "      <th>2018-10-08</th>\n",
       "      <td>208.00</td>\n",
       "      <td>222.25</td>\n",
       "      <td>206.85</td>\n",
       "      <td>216.00</td>\n",
       "      <td>215.15</td>\n",
       "      <td>4093.065</td>\n",
       "    </tr>\n",
       "    <tr>\n",
       "      <th>2018-10-05</th>\n",
       "      <td>217.00</td>\n",
       "      <td>218.60</td>\n",
       "      <td>205.90</td>\n",
       "      <td>210.25</td>\n",
       "      <td>209.20</td>\n",
       "      <td>4042.448</td>\n",
       "    </tr>\n",
       "    <tr>\n",
       "      <th>2018-10-04</th>\n",
       "      <td>223.50</td>\n",
       "      <td>227.80</td>\n",
       "      <td>216.15</td>\n",
       "      <td>217.25</td>\n",
       "      <td>218.20</td>\n",
       "      <td>4213.819</td>\n",
       "    </tr>\n",
       "    <tr>\n",
       "      <th>2018-10-03</th>\n",
       "      <td>230.00</td>\n",
       "      <td>237.50</td>\n",
       "      <td>225.75</td>\n",
       "      <td>226.45</td>\n",
       "      <td>227.60</td>\n",
       "      <td>4391.665</td>\n",
       "    </tr>\n",
       "    <tr>\n",
       "      <th>2018-10-01</th>\n",
       "      <td>234.55</td>\n",
       "      <td>234.60</td>\n",
       "      <td>221.05</td>\n",
       "      <td>230.30</td>\n",
       "      <td>230.90</td>\n",
       "      <td>4350.683</td>\n",
       "    </tr>\n",
       "    <tr>\n",
       "      <th>...</th>\n",
       "      <td>...</td>\n",
       "      <td>...</td>\n",
       "      <td>...</td>\n",
       "      <td>...</td>\n",
       "      <td>...</td>\n",
       "      <td>...</td>\n",
       "    </tr>\n",
       "    <tr>\n",
       "      <th>2017-12-14</th>\n",
       "      <td>288.00</td>\n",
       "      <td>288.25</td>\n",
       "      <td>279.20</td>\n",
       "      <td>284.50</td>\n",
       "      <td>284.30</td>\n",
       "      <td>5374.105</td>\n",
       "    </tr>\n",
       "    <tr>\n",
       "      <th>2017-12-13</th>\n",
       "      <td>290.00</td>\n",
       "      <td>292.50</td>\n",
       "      <td>282.20</td>\n",
       "      <td>284.80</td>\n",
       "      <td>284.45</td>\n",
       "      <td>5439.655</td>\n",
       "    </tr>\n",
       "    <tr>\n",
       "      <th>2017-12-12</th>\n",
       "      <td>298.60</td>\n",
       "      <td>298.60</td>\n",
       "      <td>286.65</td>\n",
       "      <td>287.45</td>\n",
       "      <td>287.80</td>\n",
       "      <td>5545.013</td>\n",
       "    </tr>\n",
       "    <tr>\n",
       "      <th>2017-12-11</th>\n",
       "      <td>290.00</td>\n",
       "      <td>299.55</td>\n",
       "      <td>285.90</td>\n",
       "      <td>297.85</td>\n",
       "      <td>298.35</td>\n",
       "      <td>5565.444</td>\n",
       "    </tr>\n",
       "    <tr>\n",
       "      <th>2017-12-08</th>\n",
       "      <td>287.55</td>\n",
       "      <td>289.90</td>\n",
       "      <td>285.05</td>\n",
       "      <td>288.05</td>\n",
       "      <td>288.45</td>\n",
       "      <td>5421.842</td>\n",
       "    </tr>\n",
       "  </tbody>\n",
       "</table>\n",
       "<p>205 rows × 6 columns</p>\n",
       "</div>"
      ],
      "text/plain": [
       "            Add1(in Thousands)  Add2(in Thousands)  Add3(in Thousands)  \\\n",
       "Date                                                                     \n",
       "2018-10-08              208.00              222.25              206.85   \n",
       "2018-10-05              217.00              218.60              205.90   \n",
       "2018-10-04              223.50              227.80              216.15   \n",
       "2018-10-03              230.00              237.50              225.75   \n",
       "2018-10-01              234.55              234.60              221.05   \n",
       "...                        ...                 ...                 ...   \n",
       "2017-12-14              288.00              288.25              279.20   \n",
       "2017-12-13              290.00              292.50              282.20   \n",
       "2017-12-12              298.60              298.60              286.65   \n",
       "2017-12-11              290.00              299.55              285.90   \n",
       "2017-12-08              287.55              289.90              285.05   \n",
       "\n",
       "            Add4(in Thousands)  Add5(in Thousands)  Profit(in Thousands)  \n",
       "Date                                                                      \n",
       "2018-10-08              216.00              215.15              4093.065  \n",
       "2018-10-05              210.25              209.20              4042.448  \n",
       "2018-10-04              217.25              218.20              4213.819  \n",
       "2018-10-03              226.45              227.60              4391.665  \n",
       "2018-10-01              230.30              230.90              4350.683  \n",
       "...                        ...                 ...                   ...  \n",
       "2017-12-14              284.50              284.30              5374.105  \n",
       "2017-12-13              284.80              284.45              5439.655  \n",
       "2017-12-12              287.45              287.80              5545.013  \n",
       "2017-12-11              297.85              298.35              5565.444  \n",
       "2017-12-08              288.05              288.45              5421.842  \n",
       "\n",
       "[205 rows x 6 columns]"
      ]
     },
     "execution_count": 2,
     "metadata": {},
     "output_type": "execute_result"
    }
   ],
   "source": [
    "data = pd.read_csv('Add_sales_data_2018.csv',index_col = [0])\n",
    "data"
   ]
  },
  {
   "cell_type": "code",
   "execution_count": 3,
   "id": "126b3a92",
   "metadata": {},
   "outputs": [
    {
     "data": {
      "text/html": [
       "<div>\n",
       "<style scoped>\n",
       "    .dataframe tbody tr th:only-of-type {\n",
       "        vertical-align: middle;\n",
       "    }\n",
       "\n",
       "    .dataframe tbody tr th {\n",
       "        vertical-align: top;\n",
       "    }\n",
       "\n",
       "    .dataframe thead th {\n",
       "        text-align: right;\n",
       "    }\n",
       "</style>\n",
       "<table border=\"1\" class=\"dataframe\">\n",
       "  <thead>\n",
       "    <tr style=\"text-align: right;\">\n",
       "      <th></th>\n",
       "      <th>Add1(in Thousands)</th>\n",
       "      <th>Add2(in Thousands)</th>\n",
       "      <th>Add3(in Thousands)</th>\n",
       "      <th>Add4(in Thousands)</th>\n",
       "      <th>Add5(in Thousands)</th>\n",
       "      <th>Profit(in Thousands)</th>\n",
       "    </tr>\n",
       "    <tr>\n",
       "      <th>Date</th>\n",
       "      <th></th>\n",
       "      <th></th>\n",
       "      <th></th>\n",
       "      <th></th>\n",
       "      <th></th>\n",
       "      <th></th>\n",
       "    </tr>\n",
       "  </thead>\n",
       "  <tbody>\n",
       "    <tr>\n",
       "      <th>2018-10-08</th>\n",
       "      <td>208.00</td>\n",
       "      <td>222.25</td>\n",
       "      <td>206.85</td>\n",
       "      <td>216.00</td>\n",
       "      <td>215.15</td>\n",
       "      <td>4093.065</td>\n",
       "    </tr>\n",
       "    <tr>\n",
       "      <th>2018-10-05</th>\n",
       "      <td>217.00</td>\n",
       "      <td>218.60</td>\n",
       "      <td>205.90</td>\n",
       "      <td>210.25</td>\n",
       "      <td>209.20</td>\n",
       "      <td>4042.448</td>\n",
       "    </tr>\n",
       "    <tr>\n",
       "      <th>2018-10-04</th>\n",
       "      <td>223.50</td>\n",
       "      <td>227.80</td>\n",
       "      <td>216.15</td>\n",
       "      <td>217.25</td>\n",
       "      <td>218.20</td>\n",
       "      <td>4213.819</td>\n",
       "    </tr>\n",
       "    <tr>\n",
       "      <th>2018-10-03</th>\n",
       "      <td>230.00</td>\n",
       "      <td>237.50</td>\n",
       "      <td>225.75</td>\n",
       "      <td>226.45</td>\n",
       "      <td>227.60</td>\n",
       "      <td>4391.665</td>\n",
       "    </tr>\n",
       "    <tr>\n",
       "      <th>2018-10-01</th>\n",
       "      <td>234.55</td>\n",
       "      <td>234.60</td>\n",
       "      <td>221.05</td>\n",
       "      <td>230.30</td>\n",
       "      <td>230.90</td>\n",
       "      <td>4350.683</td>\n",
       "    </tr>\n",
       "  </tbody>\n",
       "</table>\n",
       "</div>"
      ],
      "text/plain": [
       "            Add1(in Thousands)  Add2(in Thousands)  Add3(in Thousands)  \\\n",
       "Date                                                                     \n",
       "2018-10-08              208.00              222.25              206.85   \n",
       "2018-10-05              217.00              218.60              205.90   \n",
       "2018-10-04              223.50              227.80              216.15   \n",
       "2018-10-03              230.00              237.50              225.75   \n",
       "2018-10-01              234.55              234.60              221.05   \n",
       "\n",
       "            Add4(in Thousands)  Add5(in Thousands)  Profit(in Thousands)  \n",
       "Date                                                                      \n",
       "2018-10-08              216.00              215.15              4093.065  \n",
       "2018-10-05              210.25              209.20              4042.448  \n",
       "2018-10-04              217.25              218.20              4213.819  \n",
       "2018-10-03              226.45              227.60              4391.665  \n",
       "2018-10-01              230.30              230.90              4350.683  "
      ]
     },
     "execution_count": 3,
     "metadata": {},
     "output_type": "execute_result"
    }
   ],
   "source": [
    "data.head()"
   ]
  },
  {
   "cell_type": "markdown",
   "id": "c7daff2e",
   "metadata": {},
   "source": [
    "Features:- Adversting amount spend in 5 different companies in thousands\n",
    "\n",
    "Response:- Profit amount received withrespect to the advertisement in thousands"
   ]
  },
  {
   "cell_type": "code",
   "execution_count": 4,
   "id": "56e4ee7f",
   "metadata": {},
   "outputs": [
    {
     "data": {
      "text/plain": [
       "(205, 6)"
      ]
     },
     "execution_count": 4,
     "metadata": {},
     "output_type": "execute_result"
    }
   ],
   "source": [
    "data.shape"
   ]
  },
  {
   "cell_type": "code",
   "execution_count": 5,
   "id": "4e27a2bc",
   "metadata": {},
   "outputs": [
    {
     "data": {
      "text/plain": [
       "Add1(in Thousands)      False\n",
       "Add2(in Thousands)      False\n",
       "Add3(in Thousands)      False\n",
       "Add4(in Thousands)      False\n",
       "Add5(in Thousands)      False\n",
       "Profit(in Thousands)    False\n",
       "dtype: bool"
      ]
     },
     "execution_count": 5,
     "metadata": {},
     "output_type": "execute_result"
    }
   ],
   "source": [
    "data.isna().any()"
   ]
  },
  {
   "cell_type": "code",
   "execution_count": 6,
   "id": "51e5c11a",
   "metadata": {},
   "outputs": [
    {
     "name": "stdout",
     "output_type": "stream",
     "text": [
      "<class 'pandas.core.frame.DataFrame'>\n",
      "Index: 205 entries, 2018-10-08 to 2017-12-08\n",
      "Data columns (total 6 columns):\n",
      " #   Column                Non-Null Count  Dtype  \n",
      "---  ------                --------------  -----  \n",
      " 0   Add1(in Thousands)    205 non-null    float64\n",
      " 1   Add2(in Thousands)    205 non-null    float64\n",
      " 2   Add3(in Thousands)    205 non-null    float64\n",
      " 3   Add4(in Thousands)    205 non-null    float64\n",
      " 4   Add5(in Thousands)    205 non-null    float64\n",
      " 5   Profit(in Thousands)  205 non-null    float64\n",
      "dtypes: float64(6)\n",
      "memory usage: 11.2+ KB\n"
     ]
    }
   ],
   "source": [
    "data.info()"
   ]
  },
  {
   "cell_type": "markdown",
   "id": "8988783a",
   "metadata": {},
   "source": [
    "# 1. First of all, check whether there is any relationship between the amount spent for advertising through five different companies and profit generated.¶"
   ]
  },
  {
   "cell_type": "code",
   "execution_count": 7,
   "id": "1fd2a675",
   "metadata": {},
   "outputs": [
    {
     "data": {
      "text/html": [
       "<div>\n",
       "<style scoped>\n",
       "    .dataframe tbody tr th:only-of-type {\n",
       "        vertical-align: middle;\n",
       "    }\n",
       "\n",
       "    .dataframe tbody tr th {\n",
       "        vertical-align: top;\n",
       "    }\n",
       "\n",
       "    .dataframe thead th {\n",
       "        text-align: right;\n",
       "    }\n",
       "</style>\n",
       "<table border=\"1\" class=\"dataframe\">\n",
       "  <thead>\n",
       "    <tr style=\"text-align: right;\">\n",
       "      <th></th>\n",
       "      <th>Add1(in Thousands)</th>\n",
       "      <th>Add2(in Thousands)</th>\n",
       "      <th>Add3(in Thousands)</th>\n",
       "      <th>Add4(in Thousands)</th>\n",
       "      <th>Add5(in Thousands)</th>\n",
       "      <th>Profit(in Thousands)</th>\n",
       "    </tr>\n",
       "  </thead>\n",
       "  <tbody>\n",
       "    <tr>\n",
       "      <th>count</th>\n",
       "      <td>205.000000</td>\n",
       "      <td>205.000000</td>\n",
       "      <td>205.000000</td>\n",
       "      <td>205.000000</td>\n",
       "      <td>205.000000</td>\n",
       "      <td>205.000000</td>\n",
       "    </tr>\n",
       "    <tr>\n",
       "      <th>mean</th>\n",
       "      <td>267.577561</td>\n",
       "      <td>271.722439</td>\n",
       "      <td>262.990732</td>\n",
       "      <td>267.223902</td>\n",
       "      <td>267.152683</td>\n",
       "      <td>5059.630234</td>\n",
       "    </tr>\n",
       "    <tr>\n",
       "      <th>std</th>\n",
       "      <td>26.219588</td>\n",
       "      <td>25.914939</td>\n",
       "      <td>26.126704</td>\n",
       "      <td>26.238832</td>\n",
       "      <td>26.215360</td>\n",
       "      <td>486.910414</td>\n",
       "    </tr>\n",
       "    <tr>\n",
       "      <th>min</th>\n",
       "      <td>208.000000</td>\n",
       "      <td>218.600000</td>\n",
       "      <td>205.900000</td>\n",
       "      <td>210.250000</td>\n",
       "      <td>209.200000</td>\n",
       "      <td>4042.448000</td>\n",
       "    </tr>\n",
       "    <tr>\n",
       "      <th>25%</th>\n",
       "      <td>244.000000</td>\n",
       "      <td>248.500000</td>\n",
       "      <td>240.300000</td>\n",
       "      <td>243.050000</td>\n",
       "      <td>243.000000</td>\n",
       "      <td>4617.695000</td>\n",
       "    </tr>\n",
       "    <tr>\n",
       "      <th>50%</th>\n",
       "      <td>269.700000</td>\n",
       "      <td>274.200000</td>\n",
       "      <td>263.250000</td>\n",
       "      <td>268.900000</td>\n",
       "      <td>268.350000</td>\n",
       "      <td>5088.455000</td>\n",
       "    </tr>\n",
       "    <tr>\n",
       "      <th>75%</th>\n",
       "      <td>284.400000</td>\n",
       "      <td>288.800000</td>\n",
       "      <td>280.900000</td>\n",
       "      <td>284.500000</td>\n",
       "      <td>284.450000</td>\n",
       "      <td>5387.438000</td>\n",
       "    </tr>\n",
       "    <tr>\n",
       "      <th>max</th>\n",
       "      <td>327.700000</td>\n",
       "      <td>328.750000</td>\n",
       "      <td>321.650000</td>\n",
       "      <td>325.950000</td>\n",
       "      <td>325.750000</td>\n",
       "      <td>6137.800000</td>\n",
       "    </tr>\n",
       "  </tbody>\n",
       "</table>\n",
       "</div>"
      ],
      "text/plain": [
       "       Add1(in Thousands)  Add2(in Thousands)  Add3(in Thousands)  \\\n",
       "count          205.000000          205.000000          205.000000   \n",
       "mean           267.577561          271.722439          262.990732   \n",
       "std             26.219588           25.914939           26.126704   \n",
       "min            208.000000          218.600000          205.900000   \n",
       "25%            244.000000          248.500000          240.300000   \n",
       "50%            269.700000          274.200000          263.250000   \n",
       "75%            284.400000          288.800000          280.900000   \n",
       "max            327.700000          328.750000          321.650000   \n",
       "\n",
       "       Add4(in Thousands)  Add5(in Thousands)  Profit(in Thousands)  \n",
       "count          205.000000          205.000000            205.000000  \n",
       "mean           267.223902          267.152683           5059.630234  \n",
       "std             26.238832           26.215360            486.910414  \n",
       "min            210.250000          209.200000           4042.448000  \n",
       "25%            243.050000          243.000000           4617.695000  \n",
       "50%            268.900000          268.350000           5088.455000  \n",
       "75%            284.500000          284.450000           5387.438000  \n",
       "max            325.950000          325.750000           6137.800000  "
      ]
     },
     "execution_count": 7,
     "metadata": {},
     "output_type": "execute_result"
    }
   ],
   "source": [
    "data.describe()"
   ]
  },
  {
   "cell_type": "code",
   "execution_count": 8,
   "id": "ded6a69d",
   "metadata": {},
   "outputs": [
    {
     "data": {
      "text/plain": [
       "Add1(in Thousands)       269.700\n",
       "Add2(in Thousands)       274.200\n",
       "Add3(in Thousands)       263.250\n",
       "Add4(in Thousands)       268.900\n",
       "Add5(in Thousands)       268.350\n",
       "Profit(in Thousands)    5088.455\n",
       "dtype: float64"
      ]
     },
     "execution_count": 8,
     "metadata": {},
     "output_type": "execute_result"
    }
   ],
   "source": [
    "data.median()"
   ]
  },
  {
   "cell_type": "markdown",
   "id": "2e2aa4b3",
   "metadata": {},
   "source": [
    "> Clearly Add2 company has least standard deviation"
   ]
  },
  {
   "cell_type": "code",
   "execution_count": 9,
   "id": "b05e5d1d",
   "metadata": {},
   "outputs": [
    {
     "data": {
      "text/plain": [
       "<AxesSubplot:xlabel='Date'>"
      ]
     },
     "execution_count": 9,
     "metadata": {},
     "output_type": "execute_result"
    },
    {
     "data": {
      "image/png": "[encoded data removed]",
      "text/plain": [
       "<Figure size 720x432 with 1 Axes>"
      ]
     },
     "metadata": {
      "needs_background": "light"
     },
     "output_type": "display_data"
    }
   ],
   "source": [
    "data['Profit(in Thousands)'].plot(figsize=(10,6))"
   ]
  },
  {
   "cell_type": "markdown",
   "id": "8ef3bc6a",
   "metadata": {},
   "source": [
    " > Shows the profit trends"
   ]
  },
  {
   "cell_type": "code",
   "execution_count": 10,
   "id": "44819428",
   "metadata": {},
   "outputs": [
    {
     "data": {
      "image/png": "[encoded data removed]",
      "text/plain": [
       "<Figure size 1080x720 with 6 Axes>"
      ]
     },
     "metadata": {
      "needs_background": "light"
     },
     "output_type": "display_data"
    }
   ],
   "source": [
    "freqgraph=data.select_dtypes(include=['int32','int64','float'])\n",
    "freqgraph.hist(figsize=(15,10))\n",
    "plt.show()"
   ]
  },
  {
   "cell_type": "markdown",
   "id": "e88bf53a",
   "metadata": {},
   "source": [
    "> This will gives a fair idea about the advertisement amount spended and profit"
   ]
  },
  {
   "cell_type": "code",
   "execution_count": 11,
   "id": "f7eb7291",
   "metadata": {},
   "outputs": [
    {
     "data": {
      "text/plain": [
       "<AxesSubplot:>"
      ]
     },
     "execution_count": 11,
     "metadata": {},
     "output_type": "execute_result"
    },
    {
     "data": {
      "image/png": "[encoded data removed]",
      "text/plain": [
       "<Figure size 720x288 with 2 Axes>"
      ]
     },
     "metadata": {
      "needs_background": "light"
     },
     "output_type": "display_data"
    }
   ],
   "source": [
    "corrmatrix = data.corr()\n",
    "plt.subplots(figsize=(10,4))\n",
    "sns.heatmap(corrmatrix, vmin=.975, vmax=1.1, annot=True, linewidth=.2, cmap='YlGnBu')"
   ]
  },
  {
   "cell_type": "markdown",
   "id": "205cb906",
   "metadata": {},
   "source": [
    "> Clearly all have postive strong correlation with profit"
   ]
  },
  {
   "cell_type": "code",
   "execution_count": 12,
   "id": "3dff51a4",
   "metadata": {},
   "outputs": [
    {
     "data": {
      "text/plain": [
       "<seaborn.axisgrid.PairGrid at 0x1d1ab136790>"
      ]
     },
     "execution_count": 12,
     "metadata": {},
     "output_type": "execute_result"
    },
    {
     "data": {
      "image/png": "[encoded data removed]",
      "text/plain": [
       "<Figure size 1080x1080 with 42 Axes>"
      ]
     },
     "metadata": {
      "needs_background": "light"
     },
     "output_type": "display_data"
    }
   ],
   "source": [
    "sns.pairplot(data)"
   ]
  },
  {
   "cell_type": "markdown",
   "id": "2621563d",
   "metadata": {},
   "source": [
    "> This also depicts the strong postive correaltion of advertising companies on sales"
   ]
  },
  {
   "cell_type": "code",
   "execution_count": 13,
   "id": "f04e8c16",
   "metadata": {},
   "outputs": [
    {
     "data": {
      "text/plain": [
       "Profit(in Thousands)    1.000000\n",
       "Add2(in Thousands)      0.999145\n",
       "Add5(in Thousands)      0.993710\n",
       "Add3(in Thousands)      0.993389\n",
       "Add4(in Thousands)      0.993346\n",
       "Add1(in Thousands)      0.991975\n",
       "Name: Profit(in Thousands), dtype: float64"
      ]
     },
     "execution_count": 13,
     "metadata": {},
     "output_type": "execute_result"
    }
   ],
   "source": [
    "corrmatrix['Profit(in Thousands)'].sort_values(ascending=False)"
   ]
  },
  {
   "cell_type": "markdown",
   "id": "fbb240ea",
   "metadata": {},
   "source": [
    "> Advertising company 2 is more correlated with Profit; Advertising Company 1 is the least one"
   ]
  },
  {
   "cell_type": "markdown",
   "id": "927ae8b0",
   "metadata": {},
   "source": [
    "# 2. Build a regression model to predict the profit from the given data and comment your findings on it.¶"
   ]
  },
  {
   "cell_type": "code",
   "execution_count": 14,
   "id": "b15b539c",
   "metadata": {},
   "outputs": [
    {
     "data": {
      "text/plain": [
       "Index(['Add1(in Thousands)', 'Add2(in Thousands)', 'Add3(in Thousands)',\n",
       "       'Add4(in Thousands)', 'Add5(in Thousands)', 'Profit(in Thousands)'],\n",
       "      dtype='object')"
      ]
     },
     "execution_count": 14,
     "metadata": {},
     "output_type": "execute_result"
    }
   ],
   "source": [
    "data.columns"
   ]
  },
  {
   "cell_type": "code",
   "execution_count": 15,
   "id": "9695ca08",
   "metadata": {},
   "outputs": [],
   "source": [
    "y=data['Profit(in Thousands)']\n",
    "X=data.drop(['Profit(in Thousands)'],axis=1)"
   ]
  },
  {
   "cell_type": "code",
   "execution_count": 16,
   "id": "9b522022",
   "metadata": {},
   "outputs": [],
   "source": [
    "from sklearn.model_selection import train_test_split\n",
    "X_train,X_test,y_train,y_test = train_test_split(X,y,random_state=0,test_size=.25)"
   ]
  },
  {
   "cell_type": "code",
   "execution_count": 17,
   "id": "e41b8c76",
   "metadata": {},
   "outputs": [
    {
     "data": {
      "text/plain": [
       "(153, 5)"
      ]
     },
     "execution_count": 17,
     "metadata": {},
     "output_type": "execute_result"
    }
   ],
   "source": [
    "X_train.shape"
   ]
  },
  {
   "cell_type": "code",
   "execution_count": 18,
   "id": "ddeb1e48",
   "metadata": {},
   "outputs": [
    {
     "data": {
      "text/plain": [
       "(52, 5)"
      ]
     },
     "execution_count": 18,
     "metadata": {},
     "output_type": "execute_result"
    }
   ],
   "source": [
    "X_test.shape"
   ]
  },
  {
   "cell_type": "code",
   "execution_count": 19,
   "id": "2b955a7d",
   "metadata": {},
   "outputs": [],
   "source": [
    "from sklearn import linear_model"
   ]
  },
  {
   "cell_type": "code",
   "execution_count": 20,
   "id": "9044c8a8",
   "metadata": {},
   "outputs": [],
   "source": [
    "lr = linear_model.LinearRegression()"
   ]
  },
  {
   "cell_type": "code",
   "execution_count": 21,
   "id": "9301646b",
   "metadata": {},
   "outputs": [],
   "source": [
    "model = lr.fit(X_train, y_train)"
   ]
  },
  {
   "cell_type": "code",
   "execution_count": 22,
   "id": "1063ee1f",
   "metadata": {},
   "outputs": [],
   "source": [
    "predictions = model.predict(X_test)"
   ]
  },
  {
   "cell_type": "code",
   "execution_count": 23,
   "id": "e6ac6b59",
   "metadata": {},
   "outputs": [
    {
     "name": "stdout",
     "output_type": "stream",
     "text": [
      "Date\n",
      "2018-07-19    4494.144\n",
      "2018-01-11    5921.116\n",
      "2018-09-28    4404.686\n",
      "2018-09-07    4190.965\n",
      "2018-01-02    5880.541\n",
      "2018-01-29    5728.804\n",
      "2018-06-15    5225.140\n",
      "2018-02-21    5017.503\n",
      "2018-05-08    5518.561\n",
      "2018-08-16    4513.600\n",
      "2018-09-18    4464.110\n",
      "2018-04-02    5140.372\n",
      "2018-07-16    4760.877\n",
      "2018-06-29    5038.222\n",
      "2018-07-30    4606.340\n",
      "2018-01-30    5730.999\n",
      "2018-03-28    4922.845\n",
      "2018-09-26    4470.775\n",
      "2018-08-09    4480.363\n",
      "2018-02-23    5065.652\n",
      "2018-06-11    5043.705\n",
      "2018-04-26    5491.792\n",
      "2018-03-27    4968.030\n",
      "2018-01-25    5792.175\n",
      "2018-01-15    6137.800\n",
      "2018-03-16    5247.011\n",
      "2018-02-19    5137.534\n",
      "2018-04-24    5373.275\n",
      "2018-02-09    5212.949\n",
      "2018-05-29    4898.776\n",
      "2018-01-09    5972.337\n",
      "2017-12-26    5745.806\n",
      "2018-04-06    5153.977\n",
      "2018-01-23    5805.521\n",
      "2018-05-24    4763.690\n",
      "2018-09-11    4175.677\n",
      "2018-01-01    5938.474\n",
      "2018-03-20    4915.682\n",
      "2018-09-03    4523.704\n",
      "2018-06-19    5113.337\n",
      "2018-07-31    4648.627\n",
      "2018-10-01    4350.683\n",
      "2018-06-22    4916.064\n",
      "2018-03-22    4934.682\n",
      "2018-03-07    5108.626\n",
      "2018-04-11    5167.878\n",
      "2018-08-28    4451.999\n",
      "2018-06-06    4980.446\n",
      "2018-02-28    5177.610\n",
      "2018-01-04    5861.830\n",
      "2018-09-25    4425.005\n",
      "2018-05-28    4887.296\n",
      "Name: Profit(in Thousands), dtype: float64\n"
     ]
    }
   ],
   "source": [
    "print(y_test)"
   ]
  },
  {
   "cell_type": "code",
   "execution_count": 24,
   "id": "f0dcfc34",
   "metadata": {},
   "outputs": [
    {
     "name": "stdout",
     "output_type": "stream",
     "text": [
      "[4494.144 5921.116 4404.686 4190.965 5880.541 5728.804 5225.14  5017.503\n",
      " 5518.561 4513.6   4464.11  5140.372 4760.877 5038.222 4606.34  5730.999\n",
      " 4922.845 4470.775 4480.363 5065.652 5043.705 5491.792 4968.03  5792.175\n",
      " 6137.8   5247.011 5137.534 5373.275 5212.949 4898.776 5972.337 5745.806\n",
      " 5153.977 5805.521 4763.69  4175.677 5938.474 4915.682 4523.704 5113.337\n",
      " 4648.627 4350.683 4916.064 4934.682 5108.626 5167.878 4451.999 4980.446\n",
      " 5177.61  5861.83  4425.005 4887.296]\n"
     ]
    }
   ],
   "source": [
    "print(predictions)"
   ]
  },
  {
   "cell_type": "code",
   "execution_count": 25,
   "id": "10919d6b",
   "metadata": {},
   "outputs": [],
   "source": [
    "from sklearn.metrics import mean_squared_error"
   ]
  },
  {
   "cell_type": "code",
   "execution_count": 26,
   "id": "d76e545b",
   "metadata": {},
   "outputs": [
    {
     "name": "stdout",
     "output_type": "stream",
     "text": [
      "MSE is: 1.6066392666895345e-24\n"
     ]
    }
   ],
   "source": [
    "print('MSE is:',mean_squared_error(y_test,predictions))"
   ]
  },
  {
   "cell_type": "code",
   "execution_count": 27,
   "id": "7d400741",
   "metadata": {},
   "outputs": [
    {
     "name": "stdout",
     "output_type": "stream",
     "text": [
      "[ 1.   12.38  3.5   1.    0.9 ]\n"
     ]
    }
   ],
   "source": [
    "print(lr.coef_)"
   ]
  },
  {
   "cell_type": "code",
   "execution_count": 28,
   "id": "02e84bd7",
   "metadata": {},
   "outputs": [],
   "source": [
    "# Coefficient of regression"
   ]
  },
  {
   "cell_type": "code",
   "execution_count": 29,
   "id": "1b0d18fb",
   "metadata": {},
   "outputs": [
    {
     "name": "stdout",
     "output_type": "stream",
     "text": [
      "-1.8189894035458565e-12\n"
     ]
    }
   ],
   "source": [
    "print(lr.intercept_)"
   ]
  },
  {
   "cell_type": "code",
   "execution_count": 30,
   "id": "b72d9220",
   "metadata": {},
   "outputs": [],
   "source": [
    "predicted = lr.predict(X_test)"
   ]
  },
  {
   "cell_type": "code",
   "execution_count": 31,
   "id": "d6ff60a5",
   "metadata": {},
   "outputs": [
    {
     "name": "stdout",
     "output_type": "stream",
     "text": [
      "            Add1(in Thousands)  Add2(in Thousands)  Add3(in Thousands)  \\\n",
      "Date                                                                     \n",
      "2018-07-19              239.70              243.30              228.60   \n",
      "2018-01-11              314.00              316.70              311.80   \n",
      "2018-09-28              234.05              235.95              230.20   \n",
      "2018-09-07              221.00              224.50              219.10   \n",
      "2018-01-02              314.30              314.95              307.55   \n",
      "2018-01-29              305.25              306.80              300.70   \n",
      "2018-06-15              279.15              281.00              271.45   \n",
      "2018-02-21              265.00              268.85              262.20   \n",
      "2018-05-08              296.00              296.20              287.25   \n",
      "2018-08-16              236.05              242.00              235.95   \n",
      "2018-09-18              237.90              239.25              233.50   \n",
      "2018-04-02              259.35              278.40              259.35   \n",
      "2018-07-16              257.90              257.90              242.10   \n",
      "2018-06-29              262.70              270.15              262.70   \n",
      "2018-07-30              243.70              247.00              240.90   \n",
      "2018-01-30              300.95              307.30              299.45   \n",
      "2018-03-28              261.25              264.00              257.50   \n",
      "2018-09-26              240.00              240.00              232.50   \n",
      "2018-08-09              236.65              239.85              235.30   \n",
      "2018-02-23              264.20              271.90              263.00   \n",
      "2018-06-11              265.60              271.25              262.70   \n",
      "2018-04-26              292.50              293.65              288.75   \n",
      "2018-03-27              264.00              265.75              260.75   \n",
      "2018-01-25              304.00              311.25              301.65   \n",
      "2018-01-15              327.70              328.75              321.65   \n",
      "2018-03-16              280.80              282.70              271.05   \n",
      "2018-02-19              277.00              277.05              263.00   \n",
      "2018-04-24              283.00              288.00              281.80   \n",
      "2018-02-09              271.10              279.80              271.10   \n",
      "2018-05-29              257.40              262.70              257.00   \n",
      "2018-01-09              317.60              319.65              314.00   \n",
      "2017-12-26              303.70              307.70              300.55   \n",
      "2018-04-06              274.80              275.65              271.00   \n",
      "2018-01-23              310.70              310.70              304.05   \n",
      "2018-05-24              251.00              255.50              247.30   \n",
      "2018-09-11              222.50              225.40              214.85   \n",
      "2018-01-01              317.75              317.80              311.80   \n",
      "2018-03-20              259.70              263.65              255.10   \n",
      "2018-09-03              236.00              243.55              235.05   \n",
      "2018-06-19              274.65              274.65              266.05   \n",
      "2018-07-31              243.40              249.65              241.50   \n",
      "2018-10-01              234.55              234.60              221.05   \n",
      "2018-06-22              257.90              263.55              256.45   \n",
      "2018-03-22              264.65              264.65              257.60   \n",
      "2018-03-07              272.00              274.45              265.15   \n",
      "2018-04-11              276.10              276.35              271.50   \n",
      "2018-08-28              237.00              239.30              231.30   \n",
      "2018-06-06              262.75              266.70              260.35   \n",
      "2018-02-28              273.00              277.00              272.00   \n",
      "2018-01-04              312.00              313.50              307.25   \n",
      "2018-09-25              233.30              236.75              232.00   \n",
      "2018-05-28              254.70              262.20              254.65   \n",
      "\n",
      "            Add4(in Thousands)  Add5(in Thousands)  \n",
      "Date                                                \n",
      "2018-07-19              232.50              233.10  \n",
      "2018-01-11              313.10              313.30  \n",
      "2018-09-28              233.50              233.75  \n",
      "2018-09-07              223.15              222.95  \n",
      "2018-01-02              310.70              311.15  \n",
      "2018-01-29              301.30              301.80  \n",
      "2018-06-15              272.20              272.15  \n",
      "2018-02-21              266.50              266.60  \n",
      "2018-05-08              289.50              289.70  \n",
      "2018-08-16              240.35              239.35  \n",
      "2018-09-18              235.50              235.05  \n",
      "2018-04-02              277.45              276.95  \n",
      "2018-07-16              243.90              243.25  \n",
      "2018-06-29              269.20              269.35  \n",
      "2018-07-30              243.65              242.20  \n",
      "2018-01-30              304.00              304.00  \n",
      "2018-03-28              259.15              258.75  \n",
      "2018-09-26              235.00              234.25  \n",
      "2018-08-09              237.25              237.30  \n",
      "2018-02-23              271.20              270.70  \n",
      "2018-06-11              263.25              263.70  \n",
      "2018-04-26              291.20              291.20  \n",
      "2018-03-27              264.00              263.80  \n",
      "2018-01-25              305.30              304.25  \n",
      "2018-01-15              323.70              323.00  \n",
      "2018-03-16              272.55              272.40  \n",
      "2018-02-19              269.00              267.95  \n",
      "2018-04-24              283.70              283.15  \n",
      "2018-02-09              278.65              278.25  \n",
      "2018-05-29              257.90              257.50  \n",
      "2018-01-09              314.70              315.30  \n",
      "2017-12-26              305.50              305.95  \n",
      "2018-04-06              272.70              272.70  \n",
      "2018-01-23              307.70              307.20  \n",
      "2018-05-24              255.00              254.50  \n",
      "2018-09-11              216.35              216.00  \n",
      "2018-01-01              313.45              312.90  \n",
      "2018-03-20              263.30              262.05  \n",
      "2018-09-03              236.85              236.70  \n",
      "2018-06-19              267.00              267.05  \n",
      "2018-07-31              247.10              246.90  \n",
      "2018-10-01              230.30              230.90  \n",
      "2018-06-22              261.95              262.10  \n",
      "2018-03-22              259.10              258.85  \n",
      "2018-03-07              268.90              268.90  \n",
      "2018-04-11              273.85              273.85  \n",
      "2018-08-28              232.90              233.35  \n",
      "2018-06-06              265.55              265.75  \n",
      "2018-02-28              275.40              275.50  \n",
      "2018-01-04              312.30              312.25  \n",
      "2018-09-25              236.25              236.10  \n",
      "2018-05-28              260.70              260.65  \n"
     ]
    }
   ],
   "source": [
    "print(X_test)"
   ]
  },
  {
   "cell_type": "code",
   "execution_count": 32,
   "id": "9647b08b",
   "metadata": {},
   "outputs": [
    {
     "data": {
      "text/plain": [
       "(52,)"
      ]
     },
     "execution_count": 32,
     "metadata": {},
     "output_type": "execute_result"
    }
   ],
   "source": [
    "predicted.shape"
   ]
  },
  {
   "cell_type": "code",
   "execution_count": 33,
   "id": "00ec5490",
   "metadata": {},
   "outputs": [],
   "source": [
    "dframe=pd.DataFrame(y_test,predicted)"
   ]
  },
  {
   "cell_type": "code",
   "execution_count": 34,
   "id": "3da70aff",
   "metadata": {},
   "outputs": [],
   "source": [
    "dfr=pd.DataFrame({'Actual Profit':y_test,'Predicted Profit':predicted})"
   ]
  },
  {
   "cell_type": "code",
   "execution_count": 35,
   "id": "db7c6e36",
   "metadata": {},
   "outputs": [
    {
     "name": "stdout",
     "output_type": "stream",
     "text": [
      "            Actual Profit  Predicted Profit\n",
      "Date                                       \n",
      "2018-07-19       4494.144          4494.144\n",
      "2018-01-11       5921.116          5921.116\n",
      "2018-09-28       4404.686          4404.686\n",
      "2018-09-07       4190.965          4190.965\n",
      "2018-01-02       5880.541          5880.541\n",
      "2018-01-29       5728.804          5728.804\n",
      "2018-06-15       5225.140          5225.140\n",
      "2018-02-21       5017.503          5017.503\n",
      "2018-05-08       5518.561          5518.561\n",
      "2018-08-16       4513.600          4513.600\n",
      "2018-09-18       4464.110          4464.110\n",
      "2018-04-02       5140.372          5140.372\n",
      "2018-07-16       4760.877          4760.877\n",
      "2018-06-29       5038.222          5038.222\n",
      "2018-07-30       4606.340          4606.340\n",
      "2018-01-30       5730.999          5730.999\n",
      "2018-03-28       4922.845          4922.845\n",
      "2018-09-26       4470.775          4470.775\n",
      "2018-08-09       4480.363          4480.363\n",
      "2018-02-23       5065.652          5065.652\n",
      "2018-06-11       5043.705          5043.705\n",
      "2018-04-26       5491.792          5491.792\n",
      "2018-03-27       4968.030          4968.030\n",
      "2018-01-25       5792.175          5792.175\n",
      "2018-01-15       6137.800          6137.800\n",
      "2018-03-16       5247.011          5247.011\n",
      "2018-02-19       5137.534          5137.534\n",
      "2018-04-24       5373.275          5373.275\n",
      "2018-02-09       5212.949          5212.949\n",
      "2018-05-29       4898.776          4898.776\n",
      "2018-01-09       5972.337          5972.337\n",
      "2017-12-26       5745.806          5745.806\n",
      "2018-04-06       5153.977          5153.977\n",
      "2018-01-23       5805.521          5805.521\n",
      "2018-05-24       4763.690          4763.690\n",
      "2018-09-11       4175.677          4175.677\n",
      "2018-01-01       5938.474          5938.474\n",
      "2018-03-20       4915.682          4915.682\n",
      "2018-09-03       4523.704          4523.704\n",
      "2018-06-19       5113.337          5113.337\n",
      "2018-07-31       4648.627          4648.627\n",
      "2018-10-01       4350.683          4350.683\n",
      "2018-06-22       4916.064          4916.064\n",
      "2018-03-22       4934.682          4934.682\n",
      "2018-03-07       5108.626          5108.626\n",
      "2018-04-11       5167.878          5167.878\n",
      "2018-08-28       4451.999          4451.999\n",
      "2018-06-06       4980.446          4980.446\n",
      "2018-02-28       5177.610          5177.610\n",
      "2018-01-04       5861.830          5861.830\n",
      "2018-09-25       4425.005          4425.005\n",
      "2018-05-28       4887.296          4887.296\n"
     ]
    }
   ],
   "source": [
    "print(dfr)"
   ]
  },
  {
   "cell_type": "code",
   "execution_count": 36,
   "id": "ed3af8da",
   "metadata": {},
   "outputs": [
    {
     "data": {
      "text/html": [
       "<div>\n",
       "<style scoped>\n",
       "    .dataframe tbody tr th:only-of-type {\n",
       "        vertical-align: middle;\n",
       "    }\n",
       "\n",
       "    .dataframe tbody tr th {\n",
       "        vertical-align: top;\n",
       "    }\n",
       "\n",
       "    .dataframe thead th {\n",
       "        text-align: right;\n",
       "    }\n",
       "</style>\n",
       "<table border=\"1\" class=\"dataframe\">\n",
       "  <thead>\n",
       "    <tr style=\"text-align: right;\">\n",
       "      <th></th>\n",
       "      <th>Actual Profit</th>\n",
       "      <th>Predicted Profit</th>\n",
       "    </tr>\n",
       "    <tr>\n",
       "      <th>Date</th>\n",
       "      <th></th>\n",
       "      <th></th>\n",
       "    </tr>\n",
       "  </thead>\n",
       "  <tbody>\n",
       "    <tr>\n",
       "      <th>2018-07-19</th>\n",
       "      <td>4494.144</td>\n",
       "      <td>4494.144</td>\n",
       "    </tr>\n",
       "    <tr>\n",
       "      <th>2018-01-11</th>\n",
       "      <td>5921.116</td>\n",
       "      <td>5921.116</td>\n",
       "    </tr>\n",
       "    <tr>\n",
       "      <th>2018-09-28</th>\n",
       "      <td>4404.686</td>\n",
       "      <td>4404.686</td>\n",
       "    </tr>\n",
       "    <tr>\n",
       "      <th>2018-09-07</th>\n",
       "      <td>4190.965</td>\n",
       "      <td>4190.965</td>\n",
       "    </tr>\n",
       "    <tr>\n",
       "      <th>2018-01-02</th>\n",
       "      <td>5880.541</td>\n",
       "      <td>5880.541</td>\n",
       "    </tr>\n",
       "    <tr>\n",
       "      <th>2018-01-29</th>\n",
       "      <td>5728.804</td>\n",
       "      <td>5728.804</td>\n",
       "    </tr>\n",
       "    <tr>\n",
       "      <th>2018-06-15</th>\n",
       "      <td>5225.140</td>\n",
       "      <td>5225.140</td>\n",
       "    </tr>\n",
       "    <tr>\n",
       "      <th>2018-02-21</th>\n",
       "      <td>5017.503</td>\n",
       "      <td>5017.503</td>\n",
       "    </tr>\n",
       "    <tr>\n",
       "      <th>2018-05-08</th>\n",
       "      <td>5518.561</td>\n",
       "      <td>5518.561</td>\n",
       "    </tr>\n",
       "    <tr>\n",
       "      <th>2018-08-16</th>\n",
       "      <td>4513.600</td>\n",
       "      <td>4513.600</td>\n",
       "    </tr>\n",
       "    <tr>\n",
       "      <th>2018-09-18</th>\n",
       "      <td>4464.110</td>\n",
       "      <td>4464.110</td>\n",
       "    </tr>\n",
       "    <tr>\n",
       "      <th>2018-04-02</th>\n",
       "      <td>5140.372</td>\n",
       "      <td>5140.372</td>\n",
       "    </tr>\n",
       "    <tr>\n",
       "      <th>2018-07-16</th>\n",
       "      <td>4760.877</td>\n",
       "      <td>4760.877</td>\n",
       "    </tr>\n",
       "    <tr>\n",
       "      <th>2018-06-29</th>\n",
       "      <td>5038.222</td>\n",
       "      <td>5038.222</td>\n",
       "    </tr>\n",
       "    <tr>\n",
       "      <th>2018-07-30</th>\n",
       "      <td>4606.340</td>\n",
       "      <td>4606.340</td>\n",
       "    </tr>\n",
       "    <tr>\n",
       "      <th>2018-01-30</th>\n",
       "      <td>5730.999</td>\n",
       "      <td>5730.999</td>\n",
       "    </tr>\n",
       "    <tr>\n",
       "      <th>2018-03-28</th>\n",
       "      <td>4922.845</td>\n",
       "      <td>4922.845</td>\n",
       "    </tr>\n",
       "    <tr>\n",
       "      <th>2018-09-26</th>\n",
       "      <td>4470.775</td>\n",
       "      <td>4470.775</td>\n",
       "    </tr>\n",
       "    <tr>\n",
       "      <th>2018-08-09</th>\n",
       "      <td>4480.363</td>\n",
       "      <td>4480.363</td>\n",
       "    </tr>\n",
       "    <tr>\n",
       "      <th>2018-02-23</th>\n",
       "      <td>5065.652</td>\n",
       "      <td>5065.652</td>\n",
       "    </tr>\n",
       "    <tr>\n",
       "      <th>2018-06-11</th>\n",
       "      <td>5043.705</td>\n",
       "      <td>5043.705</td>\n",
       "    </tr>\n",
       "    <tr>\n",
       "      <th>2018-04-26</th>\n",
       "      <td>5491.792</td>\n",
       "      <td>5491.792</td>\n",
       "    </tr>\n",
       "    <tr>\n",
       "      <th>2018-03-27</th>\n",
       "      <td>4968.030</td>\n",
       "      <td>4968.030</td>\n",
       "    </tr>\n",
       "    <tr>\n",
       "      <th>2018-01-25</th>\n",
       "      <td>5792.175</td>\n",
       "      <td>5792.175</td>\n",
       "    </tr>\n",
       "    <tr>\n",
       "      <th>2018-01-15</th>\n",
       "      <td>6137.800</td>\n",
       "      <td>6137.800</td>\n",
       "    </tr>\n",
       "  </tbody>\n",
       "</table>\n",
       "</div>"
      ],
      "text/plain": [
       "            Actual Profit  Predicted Profit\n",
       "Date                                       \n",
       "2018-07-19       4494.144          4494.144\n",
       "2018-01-11       5921.116          5921.116\n",
       "2018-09-28       4404.686          4404.686\n",
       "2018-09-07       4190.965          4190.965\n",
       "2018-01-02       5880.541          5880.541\n",
       "2018-01-29       5728.804          5728.804\n",
       "2018-06-15       5225.140          5225.140\n",
       "2018-02-21       5017.503          5017.503\n",
       "2018-05-08       5518.561          5518.561\n",
       "2018-08-16       4513.600          4513.600\n",
       "2018-09-18       4464.110          4464.110\n",
       "2018-04-02       5140.372          5140.372\n",
       "2018-07-16       4760.877          4760.877\n",
       "2018-06-29       5038.222          5038.222\n",
       "2018-07-30       4606.340          4606.340\n",
       "2018-01-30       5730.999          5730.999\n",
       "2018-03-28       4922.845          4922.845\n",
       "2018-09-26       4470.775          4470.775\n",
       "2018-08-09       4480.363          4480.363\n",
       "2018-02-23       5065.652          5065.652\n",
       "2018-06-11       5043.705          5043.705\n",
       "2018-04-26       5491.792          5491.792\n",
       "2018-03-27       4968.030          4968.030\n",
       "2018-01-25       5792.175          5792.175\n",
       "2018-01-15       6137.800          6137.800"
      ]
     },
     "execution_count": 36,
     "metadata": {},
     "output_type": "execute_result"
    }
   ],
   "source": [
    "dfr.head(25)"
   ]
  },
  {
   "cell_type": "code",
   "execution_count": 37,
   "id": "8a0477d9",
   "metadata": {},
   "outputs": [],
   "source": [
    "from sklearn.metrics import confusion_matrix, accuracy_score"
   ]
  },
  {
   "cell_type": "code",
   "execution_count": 38,
   "id": "a8e18c1b",
   "metadata": {},
   "outputs": [
    {
     "data": {
      "text/plain": [
       "1.0"
      ]
     },
     "execution_count": 38,
     "metadata": {},
     "output_type": "execute_result"
    }
   ],
   "source": [
    "lr.score(X_test,y_test)"
   ]
  },
  {
   "cell_type": "code",
   "execution_count": 39,
   "id": "5f8ab0f8",
   "metadata": {},
   "outputs": [],
   "source": [
    "import math"
   ]
  },
  {
   "cell_type": "code",
   "execution_count": 40,
   "id": "3945d5cb",
   "metadata": {},
   "outputs": [
    {
     "name": "stdout",
     "output_type": "stream",
     "text": [
      "Mean Absolute Error: 1.1018878117633553e-12\n",
      "Mean Squared Error: 1.6066392666895345e-24\n",
      "Root Mean Sqaured Error: 1.2675327477779557e-12\n"
     ]
    }
   ],
   "source": [
    "print('Mean Absolute Error:',metrics.mean_absolute_error(y_test,predicted))\n",
    "print('Mean Squared Error:',metrics.mean_squared_error(y_test,predicted))\n",
    "print('Root Mean Sqaured Error:',math.sqrt(metrics.mean_squared_error(y_test,predicted)))"
   ]
  },
  {
   "cell_type": "code",
   "execution_count": 41,
   "id": "c2b5676d",
   "metadata": {},
   "outputs": [
    {
     "data": {
      "text/plain": [
       "<AxesSubplot:xlabel='Date'>"
      ]
     },
     "execution_count": 41,
     "metadata": {},
     "output_type": "execute_result"
    },
    {
     "data": {
      "image/png": "[encoded data removed]",
      "text/plain": [
       "<Figure size 432x288 with 1 Axes>"
      ]
     },
     "metadata": {
      "needs_background": "light"
     },
     "output_type": "display_data"
    }
   ],
   "source": [
    "graph =dfr.head()\n",
    "graph.plot(kind='bar')"
   ]
  },
  {
   "cell_type": "markdown",
   "id": "eef5753c",
   "metadata": {},
   "source": [
    "> Graph plotted on actual and predicted profits"
   ]
  },
  {
   "cell_type": "markdown",
   "id": "2b04c8bb",
   "metadata": {},
   "source": [
    "# 3. Predict the profit generated by the company, if they wish to spend the following amount for advertisement.\n",
    "Add1(in Thousands) 290\n",
    "\n",
    "Add2(in Thousands) 312\n",
    "\n",
    "Add3(in Thousands) 309\n",
    "\n",
    "Add4(in Thousands) 298\n",
    "\n",
    "Add5(in Thousands) 320"
   ]
  },
  {
   "cell_type": "code",
   "execution_count": 42,
   "id": "9e48168a",
   "metadata": {},
   "outputs": [
    {
     "data": {
      "text/html": [
       "<div>\n",
       "<style scoped>\n",
       "    .dataframe tbody tr th:only-of-type {\n",
       "        vertical-align: middle;\n",
       "    }\n",
       "\n",
       "    .dataframe tbody tr th {\n",
       "        vertical-align: top;\n",
       "    }\n",
       "\n",
       "    .dataframe thead th {\n",
       "        text-align: right;\n",
       "    }\n",
       "</style>\n",
       "<table border=\"1\" class=\"dataframe\">\n",
       "  <thead>\n",
       "    <tr style=\"text-align: right;\">\n",
       "      <th></th>\n",
       "      <th>Add1(in Thousands)</th>\n",
       "      <th>Add2(in Thousands)</th>\n",
       "      <th>Add3(in Thousands)</th>\n",
       "      <th>Add4(in Thousands)</th>\n",
       "      <th>Add5(in Thousands)</th>\n",
       "      <th>Profit(in Thousands)</th>\n",
       "    </tr>\n",
       "  </thead>\n",
       "  <tbody>\n",
       "    <tr>\n",
       "      <th>0</th>\n",
       "      <td>208.00</td>\n",
       "      <td>222.25</td>\n",
       "      <td>206.85</td>\n",
       "      <td>216.00</td>\n",
       "      <td>215.15</td>\n",
       "      <td>4093.065</td>\n",
       "    </tr>\n",
       "    <tr>\n",
       "      <th>1</th>\n",
       "      <td>217.00</td>\n",
       "      <td>218.60</td>\n",
       "      <td>205.90</td>\n",
       "      <td>210.25</td>\n",
       "      <td>209.20</td>\n",
       "      <td>4042.448</td>\n",
       "    </tr>\n",
       "    <tr>\n",
       "      <th>2</th>\n",
       "      <td>223.50</td>\n",
       "      <td>227.80</td>\n",
       "      <td>216.15</td>\n",
       "      <td>217.25</td>\n",
       "      <td>218.20</td>\n",
       "      <td>4213.819</td>\n",
       "    </tr>\n",
       "    <tr>\n",
       "      <th>3</th>\n",
       "      <td>230.00</td>\n",
       "      <td>237.50</td>\n",
       "      <td>225.75</td>\n",
       "      <td>226.45</td>\n",
       "      <td>227.60</td>\n",
       "      <td>4391.665</td>\n",
       "    </tr>\n",
       "    <tr>\n",
       "      <th>4</th>\n",
       "      <td>234.55</td>\n",
       "      <td>234.60</td>\n",
       "      <td>221.05</td>\n",
       "      <td>230.30</td>\n",
       "      <td>230.90</td>\n",
       "      <td>4350.683</td>\n",
       "    </tr>\n",
       "    <tr>\n",
       "      <th>...</th>\n",
       "      <td>...</td>\n",
       "      <td>...</td>\n",
       "      <td>...</td>\n",
       "      <td>...</td>\n",
       "      <td>...</td>\n",
       "      <td>...</td>\n",
       "    </tr>\n",
       "    <tr>\n",
       "      <th>201</th>\n",
       "      <td>290.00</td>\n",
       "      <td>292.50</td>\n",
       "      <td>282.20</td>\n",
       "      <td>284.80</td>\n",
       "      <td>284.45</td>\n",
       "      <td>5439.655</td>\n",
       "    </tr>\n",
       "    <tr>\n",
       "      <th>202</th>\n",
       "      <td>298.60</td>\n",
       "      <td>298.60</td>\n",
       "      <td>286.65</td>\n",
       "      <td>287.45</td>\n",
       "      <td>287.80</td>\n",
       "      <td>5545.013</td>\n",
       "    </tr>\n",
       "    <tr>\n",
       "      <th>203</th>\n",
       "      <td>290.00</td>\n",
       "      <td>299.55</td>\n",
       "      <td>285.90</td>\n",
       "      <td>297.85</td>\n",
       "      <td>298.35</td>\n",
       "      <td>5565.444</td>\n",
       "    </tr>\n",
       "    <tr>\n",
       "      <th>204</th>\n",
       "      <td>287.55</td>\n",
       "      <td>289.90</td>\n",
       "      <td>285.05</td>\n",
       "      <td>288.05</td>\n",
       "      <td>288.45</td>\n",
       "      <td>5421.842</td>\n",
       "    </tr>\n",
       "    <tr>\n",
       "      <th>205</th>\n",
       "      <td>290.00</td>\n",
       "      <td>312.00</td>\n",
       "      <td>309.00</td>\n",
       "      <td>298.00</td>\n",
       "      <td>320.00</td>\n",
       "      <td>NaN</td>\n",
       "    </tr>\n",
       "  </tbody>\n",
       "</table>\n",
       "<p>206 rows × 6 columns</p>\n",
       "</div>"
      ],
      "text/plain": [
       "     Add1(in Thousands)  Add2(in Thousands)  Add3(in Thousands)  \\\n",
       "0                208.00              222.25              206.85   \n",
       "1                217.00              218.60              205.90   \n",
       "2                223.50              227.80              216.15   \n",
       "3                230.00              237.50              225.75   \n",
       "4                234.55              234.60              221.05   \n",
       "..                  ...                 ...                 ...   \n",
       "201              290.00              292.50              282.20   \n",
       "202              298.60              298.60              286.65   \n",
       "203              290.00              299.55              285.90   \n",
       "204              287.55              289.90              285.05   \n",
       "205              290.00              312.00              309.00   \n",
       "\n",
       "     Add4(in Thousands)  Add5(in Thousands)  Profit(in Thousands)  \n",
       "0                216.00              215.15              4093.065  \n",
       "1                210.25              209.20              4042.448  \n",
       "2                217.25              218.20              4213.819  \n",
       "3                226.45              227.60              4391.665  \n",
       "4                230.30              230.90              4350.683  \n",
       "..                  ...                 ...                   ...  \n",
       "201              284.80              284.45              5439.655  \n",
       "202              287.45              287.80              5545.013  \n",
       "203              297.85              298.35              5565.444  \n",
       "204              288.05              288.45              5421.842  \n",
       "205              298.00              320.00                   NaN  \n",
       "\n",
       "[206 rows x 6 columns]"
      ]
     },
     "execution_count": 42,
     "metadata": {},
     "output_type": "execute_result"
    }
   ],
   "source": [
    "df1 = {'Add1(in Thousands)': 290, 'Add2(in Thousands)': 312, 'Add3(in Thousands)': 309,'Add4(in Thousands)': 298,'Add5(in Thousands)': 320}\n",
    "df2 = data.append(df1, ignore_index = True)\n",
    "df2"
   ]
  },
  {
   "cell_type": "code",
   "execution_count": 43,
   "id": "63d69731",
   "metadata": {},
   "outputs": [
    {
     "data": {
      "text/html": [
       "<div>\n",
       "<style scoped>\n",
       "    .dataframe tbody tr th:only-of-type {\n",
       "        vertical-align: middle;\n",
       "    }\n",
       "\n",
       "    .dataframe tbody tr th {\n",
       "        vertical-align: top;\n",
       "    }\n",
       "\n",
       "    .dataframe thead th {\n",
       "        text-align: right;\n",
       "    }\n",
       "</style>\n",
       "<table border=\"1\" class=\"dataframe\">\n",
       "  <thead>\n",
       "    <tr style=\"text-align: right;\">\n",
       "      <th></th>\n",
       "      <th>Add1(in Thousands)</th>\n",
       "      <th>Add2(in Thousands)</th>\n",
       "      <th>Add3(in Thousands)</th>\n",
       "      <th>Add4(in Thousands)</th>\n",
       "      <th>Add5(in Thousands)</th>\n",
       "      <th>Profit(in Thousands)</th>\n",
       "    </tr>\n",
       "    <tr>\n",
       "      <th>Date</th>\n",
       "      <th></th>\n",
       "      <th></th>\n",
       "      <th></th>\n",
       "      <th></th>\n",
       "      <th></th>\n",
       "      <th></th>\n",
       "    </tr>\n",
       "  </thead>\n",
       "  <tbody>\n",
       "    <tr>\n",
       "      <th>2017-12-14</th>\n",
       "      <td>288.00</td>\n",
       "      <td>288.25</td>\n",
       "      <td>279.20</td>\n",
       "      <td>284.50</td>\n",
       "      <td>284.30</td>\n",
       "      <td>5374.105</td>\n",
       "    </tr>\n",
       "    <tr>\n",
       "      <th>2017-12-13</th>\n",
       "      <td>290.00</td>\n",
       "      <td>292.50</td>\n",
       "      <td>282.20</td>\n",
       "      <td>284.80</td>\n",
       "      <td>284.45</td>\n",
       "      <td>5439.655</td>\n",
       "    </tr>\n",
       "    <tr>\n",
       "      <th>2017-12-12</th>\n",
       "      <td>298.60</td>\n",
       "      <td>298.60</td>\n",
       "      <td>286.65</td>\n",
       "      <td>287.45</td>\n",
       "      <td>287.80</td>\n",
       "      <td>5545.013</td>\n",
       "    </tr>\n",
       "    <tr>\n",
       "      <th>2017-12-11</th>\n",
       "      <td>290.00</td>\n",
       "      <td>299.55</td>\n",
       "      <td>285.90</td>\n",
       "      <td>297.85</td>\n",
       "      <td>298.35</td>\n",
       "      <td>5565.444</td>\n",
       "    </tr>\n",
       "    <tr>\n",
       "      <th>2017-12-08</th>\n",
       "      <td>287.55</td>\n",
       "      <td>289.90</td>\n",
       "      <td>285.05</td>\n",
       "      <td>288.05</td>\n",
       "      <td>288.45</td>\n",
       "      <td>5421.842</td>\n",
       "    </tr>\n",
       "  </tbody>\n",
       "</table>\n",
       "</div>"
      ],
      "text/plain": [
       "            Add1(in Thousands)  Add2(in Thousands)  Add3(in Thousands)  \\\n",
       "Date                                                                     \n",
       "2017-12-14              288.00              288.25              279.20   \n",
       "2017-12-13              290.00              292.50              282.20   \n",
       "2017-12-12              298.60              298.60              286.65   \n",
       "2017-12-11              290.00              299.55              285.90   \n",
       "2017-12-08              287.55              289.90              285.05   \n",
       "\n",
       "            Add4(in Thousands)  Add5(in Thousands)  Profit(in Thousands)  \n",
       "Date                                                                      \n",
       "2017-12-14              284.50              284.30              5374.105  \n",
       "2017-12-13              284.80              284.45              5439.655  \n",
       "2017-12-12              287.45              287.80              5545.013  \n",
       "2017-12-11              297.85              298.35              5565.444  \n",
       "2017-12-08              288.05              288.45              5421.842  "
      ]
     },
     "execution_count": 43,
     "metadata": {},
     "output_type": "execute_result"
    }
   ],
   "source": [
    "data.tail(5)"
   ]
  },
  {
   "cell_type": "code",
   "execution_count": 44,
   "id": "a95bd5c6",
   "metadata": {},
   "outputs": [
    {
     "data": {
      "text/html": [
       "<div>\n",
       "<style scoped>\n",
       "    .dataframe tbody tr th:only-of-type {\n",
       "        vertical-align: middle;\n",
       "    }\n",
       "\n",
       "    .dataframe tbody tr th {\n",
       "        vertical-align: top;\n",
       "    }\n",
       "\n",
       "    .dataframe thead th {\n",
       "        text-align: right;\n",
       "    }\n",
       "</style>\n",
       "<table border=\"1\" class=\"dataframe\">\n",
       "  <thead>\n",
       "    <tr style=\"text-align: right;\">\n",
       "      <th></th>\n",
       "      <th>Add1(in Thousands)</th>\n",
       "      <th>Add2(in Thousands)</th>\n",
       "      <th>Add3(in Thousands)</th>\n",
       "      <th>Add4(in Thousands)</th>\n",
       "      <th>Add5(in Thousands)</th>\n",
       "      <th>Profit(in Thousands)</th>\n",
       "    </tr>\n",
       "  </thead>\n",
       "  <tbody>\n",
       "    <tr>\n",
       "      <th>201</th>\n",
       "      <td>290.00</td>\n",
       "      <td>292.50</td>\n",
       "      <td>282.20</td>\n",
       "      <td>284.80</td>\n",
       "      <td>284.45</td>\n",
       "      <td>5439.655</td>\n",
       "    </tr>\n",
       "    <tr>\n",
       "      <th>202</th>\n",
       "      <td>298.60</td>\n",
       "      <td>298.60</td>\n",
       "      <td>286.65</td>\n",
       "      <td>287.45</td>\n",
       "      <td>287.80</td>\n",
       "      <td>5545.013</td>\n",
       "    </tr>\n",
       "    <tr>\n",
       "      <th>203</th>\n",
       "      <td>290.00</td>\n",
       "      <td>299.55</td>\n",
       "      <td>285.90</td>\n",
       "      <td>297.85</td>\n",
       "      <td>298.35</td>\n",
       "      <td>5565.444</td>\n",
       "    </tr>\n",
       "    <tr>\n",
       "      <th>204</th>\n",
       "      <td>287.55</td>\n",
       "      <td>289.90</td>\n",
       "      <td>285.05</td>\n",
       "      <td>288.05</td>\n",
       "      <td>288.45</td>\n",
       "      <td>5421.842</td>\n",
       "    </tr>\n",
       "    <tr>\n",
       "      <th>205</th>\n",
       "      <td>290.00</td>\n",
       "      <td>312.00</td>\n",
       "      <td>309.00</td>\n",
       "      <td>298.00</td>\n",
       "      <td>320.00</td>\n",
       "      <td>NaN</td>\n",
       "    </tr>\n",
       "  </tbody>\n",
       "</table>\n",
       "</div>"
      ],
      "text/plain": [
       "     Add1(in Thousands)  Add2(in Thousands)  Add3(in Thousands)  \\\n",
       "201              290.00              292.50              282.20   \n",
       "202              298.60              298.60              286.65   \n",
       "203              290.00              299.55              285.90   \n",
       "204              287.55              289.90              285.05   \n",
       "205              290.00              312.00              309.00   \n",
       "\n",
       "     Add4(in Thousands)  Add5(in Thousands)  Profit(in Thousands)  \n",
       "201              284.80              284.45              5439.655  \n",
       "202              287.45              287.80              5545.013  \n",
       "203              297.85              298.35              5565.444  \n",
       "204              288.05              288.45              5421.842  \n",
       "205              298.00              320.00                   NaN  "
      ]
     },
     "execution_count": 44,
     "metadata": {},
     "output_type": "execute_result"
    }
   ],
   "source": [
    "df2.tail(5)"
   ]
  },
  {
   "cell_type": "markdown",
   "id": "6027ac1e",
   "metadata": {},
   "source": [
    "> Clearly new data added and stored to df2"
   ]
  },
  {
   "cell_type": "code",
   "execution_count": 45,
   "id": "17e8ecb6",
   "metadata": {},
   "outputs": [
    {
     "data": {
      "text/plain": [
       "Index(['Add1(in Thousands)', 'Add2(in Thousands)', 'Add3(in Thousands)',\n",
       "       'Add4(in Thousands)', 'Add5(in Thousands)', 'Profit(in Thousands)'],\n",
       "      dtype='object')"
      ]
     },
     "execution_count": 45,
     "metadata": {},
     "output_type": "execute_result"
    }
   ],
   "source": [
    "df2.columns"
   ]
  },
  {
   "cell_type": "code",
   "execution_count": 46,
   "id": "f9130ffa",
   "metadata": {},
   "outputs": [],
   "source": [
    "y=df2['Profit(in Thousands)']\n",
    "X=df2.drop(['Profit(in Thousands)'],axis=1)"
   ]
  },
  {
   "cell_type": "code",
   "execution_count": 47,
   "id": "78f29535",
   "metadata": {},
   "outputs": [],
   "source": [
    "from sklearn.model_selection import train_test_split\n",
    "X_train,X_test,y_train,y_test = train_test_split(X,y,random_state=0,test_size=.25)"
   ]
  },
  {
   "cell_type": "code",
   "execution_count": 48,
   "id": "d6ad81f4",
   "metadata": {},
   "outputs": [
    {
     "data": {
      "text/plain": [
       "(154, 5)"
      ]
     },
     "execution_count": 48,
     "metadata": {},
     "output_type": "execute_result"
    }
   ],
   "source": [
    "X_train.shape"
   ]
  },
  {
   "cell_type": "code",
   "execution_count": 49,
   "id": "1a1d11ce",
   "metadata": {},
   "outputs": [
    {
     "data": {
      "text/plain": [
       "(52, 5)"
      ]
     },
     "execution_count": 49,
     "metadata": {},
     "output_type": "execute_result"
    }
   ],
   "source": [
    "X_test.shape"
   ]
  },
  {
   "cell_type": "code",
   "execution_count": 50,
   "id": "1f1f2fd3",
   "metadata": {},
   "outputs": [],
   "source": [
    "from sklearn import linear_model\n",
    "lr = linear_model.LinearRegression()\n",
    "model = lr.fit(X_train, y_train)\n",
    "predictions = model.predict(X_test)\n"
   ]
  },
  {
   "cell_type": "code",
   "execution_count": 51,
   "id": "f5dfbd4e",
   "metadata": {},
   "outputs": [
    {
     "name": "stdout",
     "output_type": "stream",
     "text": [
      "52     4494.144\n",
      "182    5956.323\n",
      "5      4404.686\n",
      "18     4190.965\n",
      "189    5938.474\n",
      "171    5792.175\n",
      "76     5225.140\n",
      "154    5017.503\n",
      "104    5518.561\n",
      "33     4513.600\n",
      "12     4464.110\n",
      "129    5140.372\n",
      "55     4760.877\n",
      "66     5038.222\n",
      "45     4606.340\n",
      "168    5616.791\n",
      "130    4922.845\n",
      "7      4470.775\n",
      "37     4480.363\n",
      "152    5065.652\n",
      "80     5043.705\n",
      "111    5491.792\n",
      "131    4968.030\n",
      "205         NaN\n",
      "180    6101.648\n",
      "138    5247.011\n",
      "156    5137.534\n",
      "113    5373.275\n",
      "161    5212.949\n",
      "89     4898.776\n",
      "184    5962.336\n",
      "194    5717.838\n",
      "125    5153.977\n",
      "188    5880.541\n",
      "92     4763.690\n",
      "16     4175.677\n",
      "190    5917.925\n",
      "136    4915.682\n",
      "22     4523.704\n",
      "74     5113.337\n",
      "44     4648.627\n",
      "4      4350.683\n",
      "71     4916.064\n",
      "134    4934.682\n",
      "145    5108.626\n",
      "122    5167.878\n",
      "26     4451.999\n",
      "83     4980.446\n",
      "149    5177.610\n",
      "187    5890.012\n",
      "8      4425.005\n",
      "90     4887.296\n",
      "Name: Profit(in Thousands), dtype: float64\n"
     ]
    }
   ],
   "source": [
    "print(y_test)"
   ]
  },
  {
   "cell_type": "code",
   "execution_count": 52,
   "id": "6853e337",
   "metadata": {},
   "outputs": [
    {
     "name": "stdout",
     "output_type": "stream",
     "text": [
      "[4494.144 5956.323 4404.686 4190.965 5938.474 5792.175 5225.14  5017.503\n",
      " 5518.561 4513.6   4464.11  5140.372 4760.877 5038.222 4606.34  5616.791\n",
      " 4922.845 4470.775 4480.363 5065.652 5043.705 5491.792 4968.03  5820.06\n",
      " 6101.648 5247.011 5137.534 5373.275 5212.949 4898.776 5962.336 5717.838\n",
      " 5153.977 5880.541 4763.69  4175.677 5917.925 4915.682 4523.704 5113.337\n",
      " 4648.627 4350.683 4916.064 4934.682 5108.626 5167.878 4451.999 4980.446\n",
      " 5177.61  5890.012 4425.005 4887.296]\n"
     ]
    }
   ],
   "source": [
    "print(predictions)"
   ]
  },
  {
   "cell_type": "markdown",
   "id": "dee1d5ad",
   "metadata": {},
   "source": [
    "> the profit are prdicted"
   ]
  },
  {
   "cell_type": "code",
   "execution_count": 53,
   "id": "b7a9a592",
   "metadata": {},
   "outputs": [
    {
     "name": "stdout",
     "output_type": "stream",
     "text": [
      "[ 1.   12.38  3.5   1.    0.9 ]\n"
     ]
    }
   ],
   "source": [
    "print(lr.coef_)\n"
   ]
  },
  {
   "cell_type": "code",
   "execution_count": 54,
   "id": "461dd944",
   "metadata": {},
   "outputs": [
    {
     "name": "stdout",
     "output_type": "stream",
     "text": [
      "0.0\n"
     ]
    }
   ],
   "source": [
    "print(lr.intercept_)\n"
   ]
  },
  {
   "cell_type": "code",
   "execution_count": 55,
   "id": "7cbe750e",
   "metadata": {},
   "outputs": [],
   "source": [
    "predicted = lr.predict(X_test)\n"
   ]
  },
  {
   "cell_type": "code",
   "execution_count": 56,
   "id": "41fae585",
   "metadata": {},
   "outputs": [
    {
     "name": "stdout",
     "output_type": "stream",
     "text": [
      "     Add1(in Thousands)  Add2(in Thousands)  Add3(in Thousands)  \\\n",
      "52               239.70              243.30              228.60   \n",
      "182              315.00              319.10              312.55   \n",
      "5                234.05              235.95              230.20   \n",
      "18               221.00              224.50              219.10   \n",
      "189              317.75              317.80              311.80   \n",
      "171              304.00              311.25              301.65   \n",
      "76               279.15              281.00              271.45   \n",
      "154              265.00              268.85              262.20   \n",
      "104              296.00              296.20              287.25   \n",
      "33               236.05              242.00              235.95   \n",
      "12               237.90              239.25              233.50   \n",
      "129              259.35              278.40              259.35   \n",
      "55               257.90              257.90              242.10   \n",
      "66               262.70              270.15              262.70   \n",
      "45               243.70              247.00              240.90   \n",
      "168              302.90              303.70              286.10   \n",
      "130              261.25              264.00              257.50   \n",
      "7                240.00              240.00              232.50   \n",
      "37               236.65              239.85              235.30   \n",
      "152              264.20              271.90              263.00   \n",
      "80               265.60              271.25              262.70   \n",
      "111              292.50              293.65              288.75   \n",
      "131              264.00              265.75              260.75   \n",
      "205              290.00              312.00              309.00   \n",
      "180              315.05              328.35              315.00   \n",
      "138              280.80              282.70              271.05   \n",
      "156              277.00              277.05              263.00   \n",
      "113              283.00              288.00              281.80   \n",
      "161              271.10              279.80              271.10   \n",
      "89               257.40              262.70              257.00   \n",
      "184              314.65              319.20              312.20   \n",
      "194              301.00              306.35              299.70   \n",
      "125              274.80              275.65              271.00   \n",
      "188              314.30              314.95              307.55   \n",
      "92               251.00              255.50              247.30   \n",
      "16               222.50              225.40              214.85   \n",
      "190              308.05              318.00              306.35   \n",
      "136              259.70              263.65              255.10   \n",
      "22               236.00              243.55              235.05   \n",
      "74               274.65              274.65              266.05   \n",
      "44               243.40              249.65              241.50   \n",
      "4                234.55              234.60              221.05   \n",
      "71               257.90              263.55              256.45   \n",
      "134              264.65              264.65              257.60   \n",
      "145              272.00              274.45              265.15   \n",
      "122              276.10              276.35              271.50   \n",
      "26               237.00              239.30              231.30   \n",
      "83               262.75              266.70              260.35   \n",
      "149              273.00              277.00              272.00   \n",
      "187              311.90              315.15              310.15   \n",
      "8                233.30              236.75              232.00   \n",
      "90               254.70              262.20              254.65   \n",
      "\n",
      "     Add4(in Thousands)  Add5(in Thousands)  \n",
      "52               232.50              233.10  \n",
      "182              314.25              314.10  \n",
      "5                233.50              233.75  \n",
      "18               223.15              222.95  \n",
      "189              313.45              312.90  \n",
      "171              305.30              304.25  \n",
      "76               272.20              272.15  \n",
      "154              266.50              266.60  \n",
      "104              289.50              289.70  \n",
      "33               240.35              239.35  \n",
      "12               235.50              235.05  \n",
      "129              277.45              276.95  \n",
      "55               243.90              243.25  \n",
      "66               269.20              269.35  \n",
      "45               243.65              242.20  \n",
      "168              291.15              290.65  \n",
      "130              259.15              258.75  \n",
      "7                235.00              234.25  \n",
      "37               237.25              237.30  \n",
      "152              271.20              270.70  \n",
      "80               263.25              263.70  \n",
      "111              291.20              291.20  \n",
      "131              264.00              263.80  \n",
      "205              298.00              320.00  \n",
      "180              325.95              325.75  \n",
      "138              272.55              272.40  \n",
      "156              269.00              267.95  \n",
      "113              283.70              283.15  \n",
      "161              278.65              278.25  \n",
      "89               257.90              257.50  \n",
      "184              317.45              317.60  \n",
      "194              302.80              302.75  \n",
      "125              272.70              272.70  \n",
      "188              310.70              311.15  \n",
      "92               255.00              254.50  \n",
      "16               216.35              216.00  \n",
      "190              316.05              316.40  \n",
      "136              263.30              262.05  \n",
      "22               236.85              236.70  \n",
      "74               267.00              267.05  \n",
      "44               247.10              246.90  \n",
      "4                230.30              230.90  \n",
      "71               261.95              262.10  \n",
      "134              259.10              258.85  \n",
      "145              268.90              268.90  \n",
      "122              273.85              273.85  \n",
      "26               232.90              233.35  \n",
      "83               265.55              265.75  \n",
      "149              275.40              275.50  \n",
      "187              310.95              311.20  \n",
      "8                236.25              236.10  \n",
      "90               260.70              260.65  \n"
     ]
    }
   ],
   "source": [
    "print(X_test)"
   ]
  },
  {
   "cell_type": "code",
   "execution_count": 57,
   "id": "deca003b",
   "metadata": {},
   "outputs": [
    {
     "data": {
      "text/plain": [
       "(52,)"
      ]
     },
     "execution_count": 57,
     "metadata": {},
     "output_type": "execute_result"
    }
   ],
   "source": [
    "predicted.shape\n"
   ]
  },
  {
   "cell_type": "code",
   "execution_count": 58,
   "id": "951930a1",
   "metadata": {},
   "outputs": [],
   "source": [
    "dframe1=pd.DataFrame(y_test,predicted)\n"
   ]
  },
  {
   "cell_type": "code",
   "execution_count": 59,
   "id": "2f0e0a84",
   "metadata": {},
   "outputs": [],
   "source": [
    "dfr1=pd.DataFrame({'Actual Profit':y_test,'Predicted Profit':predicted})\n"
   ]
  },
  {
   "cell_type": "code",
   "execution_count": 60,
   "id": "ffccc512",
   "metadata": {},
   "outputs": [
    {
     "name": "stdout",
     "output_type": "stream",
     "text": [
      "     Actual Profit  Predicted Profit\n",
      "52        4494.144          4494.144\n",
      "182       5956.323          5956.323\n",
      "5         4404.686          4404.686\n",
      "18        4190.965          4190.965\n",
      "189       5938.474          5938.474\n",
      "171       5792.175          5792.175\n",
      "76        5225.140          5225.140\n",
      "154       5017.503          5017.503\n",
      "104       5518.561          5518.561\n",
      "33        4513.600          4513.600\n",
      "12        4464.110          4464.110\n",
      "129       5140.372          5140.372\n",
      "55        4760.877          4760.877\n",
      "66        5038.222          5038.222\n",
      "45        4606.340          4606.340\n",
      "168       5616.791          5616.791\n",
      "130       4922.845          4922.845\n",
      "7         4470.775          4470.775\n",
      "37        4480.363          4480.363\n",
      "152       5065.652          5065.652\n",
      "80        5043.705          5043.705\n",
      "111       5491.792          5491.792\n",
      "131       4968.030          4968.030\n",
      "205            NaN          5820.060\n",
      "180       6101.648          6101.648\n",
      "138       5247.011          5247.011\n",
      "156       5137.534          5137.534\n",
      "113       5373.275          5373.275\n",
      "161       5212.949          5212.949\n",
      "89        4898.776          4898.776\n",
      "184       5962.336          5962.336\n",
      "194       5717.838          5717.838\n",
      "125       5153.977          5153.977\n",
      "188       5880.541          5880.541\n",
      "92        4763.690          4763.690\n",
      "16        4175.677          4175.677\n",
      "190       5917.925          5917.925\n",
      "136       4915.682          4915.682\n",
      "22        4523.704          4523.704\n",
      "74        5113.337          5113.337\n",
      "44        4648.627          4648.627\n",
      "4         4350.683          4350.683\n",
      "71        4916.064          4916.064\n",
      "134       4934.682          4934.682\n",
      "145       5108.626          5108.626\n",
      "122       5167.878          5167.878\n",
      "26        4451.999          4451.999\n",
      "83        4980.446          4980.446\n",
      "149       5177.610          5177.610\n",
      "187       5890.012          5890.012\n",
      "8         4425.005          4425.005\n",
      "90        4887.296          4887.296\n"
     ]
    }
   ],
   "source": [
    "print(dfr1)\n"
   ]
  },
  {
   "cell_type": "code",
   "execution_count": 61,
   "id": "61db4bfd",
   "metadata": {},
   "outputs": [
    {
     "data": {
      "text/html": [
       "<div>\n",
       "<style scoped>\n",
       "    .dataframe tbody tr th:only-of-type {\n",
       "        vertical-align: middle;\n",
       "    }\n",
       "\n",
       "    .dataframe tbody tr th {\n",
       "        vertical-align: top;\n",
       "    }\n",
       "\n",
       "    .dataframe thead th {\n",
       "        text-align: right;\n",
       "    }\n",
       "</style>\n",
       "<table border=\"1\" class=\"dataframe\">\n",
       "  <thead>\n",
       "    <tr style=\"text-align: right;\">\n",
       "      <th></th>\n",
       "      <th>Actual Profit</th>\n",
       "      <th>Predicted Profit</th>\n",
       "    </tr>\n",
       "  </thead>\n",
       "  <tbody>\n",
       "    <tr>\n",
       "      <th>52</th>\n",
       "      <td>4494.144</td>\n",
       "      <td>4494.144</td>\n",
       "    </tr>\n",
       "    <tr>\n",
       "      <th>182</th>\n",
       "      <td>5956.323</td>\n",
       "      <td>5956.323</td>\n",
       "    </tr>\n",
       "    <tr>\n",
       "      <th>5</th>\n",
       "      <td>4404.686</td>\n",
       "      <td>4404.686</td>\n",
       "    </tr>\n",
       "    <tr>\n",
       "      <th>18</th>\n",
       "      <td>4190.965</td>\n",
       "      <td>4190.965</td>\n",
       "    </tr>\n",
       "    <tr>\n",
       "      <th>189</th>\n",
       "      <td>5938.474</td>\n",
       "      <td>5938.474</td>\n",
       "    </tr>\n",
       "    <tr>\n",
       "      <th>171</th>\n",
       "      <td>5792.175</td>\n",
       "      <td>5792.175</td>\n",
       "    </tr>\n",
       "    <tr>\n",
       "      <th>76</th>\n",
       "      <td>5225.140</td>\n",
       "      <td>5225.140</td>\n",
       "    </tr>\n",
       "    <tr>\n",
       "      <th>154</th>\n",
       "      <td>5017.503</td>\n",
       "      <td>5017.503</td>\n",
       "    </tr>\n",
       "    <tr>\n",
       "      <th>104</th>\n",
       "      <td>5518.561</td>\n",
       "      <td>5518.561</td>\n",
       "    </tr>\n",
       "    <tr>\n",
       "      <th>33</th>\n",
       "      <td>4513.600</td>\n",
       "      <td>4513.600</td>\n",
       "    </tr>\n",
       "    <tr>\n",
       "      <th>12</th>\n",
       "      <td>4464.110</td>\n",
       "      <td>4464.110</td>\n",
       "    </tr>\n",
       "    <tr>\n",
       "      <th>129</th>\n",
       "      <td>5140.372</td>\n",
       "      <td>5140.372</td>\n",
       "    </tr>\n",
       "    <tr>\n",
       "      <th>55</th>\n",
       "      <td>4760.877</td>\n",
       "      <td>4760.877</td>\n",
       "    </tr>\n",
       "    <tr>\n",
       "      <th>66</th>\n",
       "      <td>5038.222</td>\n",
       "      <td>5038.222</td>\n",
       "    </tr>\n",
       "    <tr>\n",
       "      <th>45</th>\n",
       "      <td>4606.340</td>\n",
       "      <td>4606.340</td>\n",
       "    </tr>\n",
       "    <tr>\n",
       "      <th>168</th>\n",
       "      <td>5616.791</td>\n",
       "      <td>5616.791</td>\n",
       "    </tr>\n",
       "    <tr>\n",
       "      <th>130</th>\n",
       "      <td>4922.845</td>\n",
       "      <td>4922.845</td>\n",
       "    </tr>\n",
       "    <tr>\n",
       "      <th>7</th>\n",
       "      <td>4470.775</td>\n",
       "      <td>4470.775</td>\n",
       "    </tr>\n",
       "    <tr>\n",
       "      <th>37</th>\n",
       "      <td>4480.363</td>\n",
       "      <td>4480.363</td>\n",
       "    </tr>\n",
       "    <tr>\n",
       "      <th>152</th>\n",
       "      <td>5065.652</td>\n",
       "      <td>5065.652</td>\n",
       "    </tr>\n",
       "    <tr>\n",
       "      <th>80</th>\n",
       "      <td>5043.705</td>\n",
       "      <td>5043.705</td>\n",
       "    </tr>\n",
       "    <tr>\n",
       "      <th>111</th>\n",
       "      <td>5491.792</td>\n",
       "      <td>5491.792</td>\n",
       "    </tr>\n",
       "    <tr>\n",
       "      <th>131</th>\n",
       "      <td>4968.030</td>\n",
       "      <td>4968.030</td>\n",
       "    </tr>\n",
       "    <tr>\n",
       "      <th>205</th>\n",
       "      <td>NaN</td>\n",
       "      <td>5820.060</td>\n",
       "    </tr>\n",
       "    <tr>\n",
       "      <th>180</th>\n",
       "      <td>6101.648</td>\n",
       "      <td>6101.648</td>\n",
       "    </tr>\n",
       "  </tbody>\n",
       "</table>\n",
       "</div>"
      ],
      "text/plain": [
       "     Actual Profit  Predicted Profit\n",
       "52        4494.144          4494.144\n",
       "182       5956.323          5956.323\n",
       "5         4404.686          4404.686\n",
       "18        4190.965          4190.965\n",
       "189       5938.474          5938.474\n",
       "171       5792.175          5792.175\n",
       "76        5225.140          5225.140\n",
       "154       5017.503          5017.503\n",
       "104       5518.561          5518.561\n",
       "33        4513.600          4513.600\n",
       "12        4464.110          4464.110\n",
       "129       5140.372          5140.372\n",
       "55        4760.877          4760.877\n",
       "66        5038.222          5038.222\n",
       "45        4606.340          4606.340\n",
       "168       5616.791          5616.791\n",
       "130       4922.845          4922.845\n",
       "7         4470.775          4470.775\n",
       "37        4480.363          4480.363\n",
       "152       5065.652          5065.652\n",
       "80        5043.705          5043.705\n",
       "111       5491.792          5491.792\n",
       "131       4968.030          4968.030\n",
       "205            NaN          5820.060\n",
       "180       6101.648          6101.648"
      ]
     },
     "execution_count": 61,
     "metadata": {},
     "output_type": "execute_result"
    }
   ],
   "source": [
    "dfr1.head(25)"
   ]
  },
  {
   "cell_type": "markdown",
   "id": "274af5e4",
   "metadata": {},
   "source": [
    "> The Profit is expected to be as 5820"
   ]
  },
  {
   "cell_type": "code",
   "execution_count": 62,
   "id": "e03923d9",
   "metadata": {},
   "outputs": [
    {
     "data": {
      "text/plain": [
       "<AxesSubplot:>"
      ]
     },
     "execution_count": 62,
     "metadata": {},
     "output_type": "execute_result"
    },
    {
     "data": {
      "image/png": "[encoded data removed]",
      "text/plain": [
       "<Figure size 432x288 with 1 Axes>"
      ]
     },
     "metadata": {
      "needs_background": "light"
     },
     "output_type": "display_data"
    }
   ],
   "source": [
    "graph =dfr1.head()\n",
    "graph.plot(kind='bar')"
   ]
  },
  {
   "cell_type": "code",
   "execution_count": null,
   "id": "1b381a4a",
   "metadata": {},
   "outputs": [],
   "source": [
    "\n"
   ]
  },
  {
   "cell_type": "code",
   "execution_count": null,
   "id": "9721ea10",
   "metadata": {},
   "outputs": [],
   "source": [
    "\n"
   ]
  },
  {
   "cell_type": "code",
   "execution_count": null,
   "id": "ee6cd755",
   "metadata": {},
   "outputs": [],
   "source": []
  },
  {
   "cell_type": "code",
   "execution_count": null,
   "id": "31b225f5",
   "metadata": {},
   "outputs": [],
   "source": []
  },
  {
   "cell_type": "code",
   "execution_count": null,
   "id": "df72b3db",
   "metadata": {},
   "outputs": [],
   "source": []
  }
 ],
 "metadata": {
  "kernelspec": {
   "display_name": "Python 3",
   "language": "python",
   "name": "python3"
  },
  "language_info": {
   "codemirror_mode": {
    "name": "ipython",
    "version": 3
   },
   "file_extension": ".py",
   "mimetype": "text/x-python",
   "name": "python",
   "nbconvert_exporter": "python",
   "pygments_lexer": "ipython3",
   "version": "3.8.8"
  }
 },
 "nbformat": 4,
 "nbformat_minor": 5
}
